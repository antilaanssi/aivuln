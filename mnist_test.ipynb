{
 "cells": [
  {
   "cell_type": "code",
   "execution_count": 1,
   "id": "44559ca5-a469-44a0-b567-be13af75a5bc",
   "metadata": {},
   "outputs": [
    {
     "name": "stderr",
     "output_type": "stream",
     "text": [
      "2023-09-13 12:48:05.699040: I tensorflow/tsl/cuda/cudart_stub.cc:28] Could not find cuda drivers on your machine, GPU will not be used.\n",
      "2023-09-13 12:48:05.721994: I tensorflow/tsl/cuda/cudart_stub.cc:28] Could not find cuda drivers on your machine, GPU will not be used.\n",
      "2023-09-13 12:48:05.723167: I tensorflow/core/platform/cpu_feature_guard.cc:182] This TensorFlow binary is optimized to use available CPU instructions in performance-critical operations.\n",
      "To enable the following instructions: AVX2 FMA, in other operations, rebuild TensorFlow with the appropriate compiler flags.\n",
      "2023-09-13 12:48:06.189071: W tensorflow/compiler/tf2tensorrt/utils/py_utils.cc:38] TF-TRT Warning: Could not find TensorRT\n"
     ]
    },
    {
     "name": "stdout",
     "output_type": "stream",
     "text": [
      "Unexpected exception formatting exception. Falling back to standard exception\n"
     ]
    },
    {
     "name": "stderr",
     "output_type": "stream",
     "text": [
      "Traceback (most recent call last):\n",
      "  File \"/home/anssi/.local/lib/python3.8/site-packages/IPython/core/interactiveshell.py\", line 3508, in run_code\n",
      "    exec(code_obj, self.user_global_ns, self.user_ns)\n",
      "  File \"/tmp/ipykernel_984/3250535562.py\", line 11, in <module>\n",
      "    from keras.utils import np_utils            # help us to transform our data later\n",
      "ImportError: cannot import name 'np_utils' from 'keras.utils' (/home/anssi/.local/lib/python3.8/site-packages/keras/utils/__init__.py)\n",
      "\n",
      "During handling of the above exception, another exception occurred:\n",
      "\n",
      "Traceback (most recent call last):\n",
      "  File \"/home/anssi/.local/lib/python3.8/site-packages/IPython/core/interactiveshell.py\", line 2105, in showtraceback\n",
      "    stb = self.InteractiveTB.structured_traceback(\n",
      "  File \"/home/anssi/.local/lib/python3.8/site-packages/IPython/core/ultratb.py\", line 1396, in structured_traceback\n",
      "    return FormattedTB.structured_traceback(\n",
      "  File \"/home/anssi/.local/lib/python3.8/site-packages/IPython/core/ultratb.py\", line 1287, in structured_traceback\n",
      "    return VerboseTB.structured_traceback(\n",
      "  File \"/home/anssi/.local/lib/python3.8/site-packages/IPython/core/ultratb.py\", line 1140, in structured_traceback\n",
      "    formatted_exception = self.format_exception_as_a_whole(etype, evalue, etb, number_of_lines_of_context,\n",
      "  File \"/home/anssi/.local/lib/python3.8/site-packages/IPython/core/ultratb.py\", line 1030, in format_exception_as_a_whole\n",
      "    self.get_records(etb, number_of_lines_of_context, tb_offset) if etb else []\n",
      "  File \"/home/anssi/.local/lib/python3.8/site-packages/IPython/core/ultratb.py\", line 1082, in get_records\n",
      "    style = stack_data.style_with_executing_node(style, self._tb_highlight)\n",
      "  File \"/home/anssi/.local/lib/python3.8/site-packages/stack_data/core.py\", line 455, in style_with_executing_node\n",
      "    class NewStyle(style):\n",
      "  File \"/usr/lib/python3/dist-packages/pygments/style.py\", line 91, in __new__\n",
      "    ndef[4] = colorformat(styledef[3:])\n",
      "  File \"/usr/lib/python3/dist-packages/pygments/style.py\", line 58, in colorformat\n",
      "    assert False, \"wrong color format %r\" % text\n",
      "AssertionError: wrong color format 'ansiyellow'\n"
     ]
    }
   ],
   "source": [
    "import tensorflow as tf\n",
    "from tensorflow import keras\n",
    "import numpy as np\n",
    "import matplotlib.pyplot as plt\n",
    "from tensorflow.keras.preprocessing.image import load_img, img_to_array\n",
    "import cv2\n",
    "np.random.seed(42)                          # This allows us to reproduce the results from our script\n",
    "from keras.models import Sequential             \n",
    "from keras.layers import Dense, Activation\n",
    "from keras.optimizers import Adam, SGD\n",
    "from keras.utils import np_utils            # help us to transform our data later"
   ]
  },
  {
   "cell_type": "code",
   "execution_count": null,
   "id": "66012877-dc12-4f50-b414-935466883956",
   "metadata": {},
   "outputs": [],
   "source": [
    "\n",
    "\n",
    "(X_train, y_train), (X_test, y_test) = tf.keras.datasets.mnist.load_data()\n",
    "\n"
   ]
  },
  {
   "cell_type": "code",
   "execution_count": null,
   "id": "855cf43a-b8b1-4123-9c8f-5b72130ef6a1",
   "metadata": {},
   "outputs": [],
   "source": [
    "print('Total no of Images: ',X_train.shape[0]) \n",
    "print('Size of Image:', X_train.shape[1:])\n",
    "print('Total no of labels:', y_train.shape)"
   ]
  },
  {
   "cell_type": "code",
   "execution_count": null,
   "id": "bfc155cf-ecac-4533-a79d-ebf5c3e876b9",
   "metadata": {},
   "outputs": [],
   "source": [
    "\n",
    "\n",
    "#look input data\n",
    "\n",
    "plt.imshow(X_train[0], cmap = plt.get_cmap('gray'))  # cmap - convert image into grascale\n",
    "print('Label:', y_train[0])\n",
    "\n"
   ]
  },
  {
   "cell_type": "code",
   "execution_count": null,
   "id": "67016933-0ad6-472b-9f50-61b9f84f7a05",
   "metadata": {},
   "outputs": [],
   "source": [
    "X_train = X_train.reshape((X_train.shape[0],-1))\n",
    "X_test = X_test.reshape((X_test.shape[0], -1))\n",
    "\n",
    "X_train = X_train.astype('float32')\n",
    "X_test = X_test.astype('float32')\n",
    "\n",
    "print(X_train.shape, X_test.shape)"
   ]
  },
  {
   "cell_type": "code",
   "execution_count": null,
   "id": "b6233ae3-201a-4358-b9ec-6a33c90fe050",
   "metadata": {},
   "outputs": [],
   "source": [
    "X_train = X_train/255\n",
    "X_test = X_test/255\n",
    "\n",
    "# print(X_train[0])\n",
    "X_train.shape"
   ]
  },
  {
   "cell_type": "code",
   "execution_count": null,
   "id": "b564be14-f322-4052-b26b-2ff9e2c68572",
   "metadata": {},
   "outputs": [],
   "source": [
    "# One-hot encoding\n",
    "\n",
    "y_train = np_utils.to_categorical(y_train)\n",
    "y_test = np_utils.to_categorical(y_test)\n",
    "\n",
    "print(y_train.shape)"
   ]
  },
  {
   "cell_type": "code",
   "execution_count": null,
   "id": "5be61cac-a30f-44d3-9f6c-3b158825fba9",
   "metadata": {},
   "outputs": [],
   "source": [
    "num_classes = y_test.shape[1]\n",
    "num_pixels = 784"
   ]
  },
  {
   "cell_type": "code",
   "execution_count": null,
   "id": "0a5944ba-8e67-453b-be84-d967153051f6",
   "metadata": {},
   "outputs": [],
   "source": [
    "# define baseline model\n",
    "\n",
    "def baseline_model():\n",
    "    # create model\n",
    "    model = Sequential()\n",
    "    model.add(Dense(256, input_dim=num_pixels, activation='relu'))\n",
    "    model.add(Dense(64, activation='relu'))\n",
    "    model.add(Dense(num_classes, activation='softmax'))\n",
    "    \n",
    "    return model"
   ]
  },
  {
   "cell_type": "code",
   "execution_count": null,
   "id": "ec046733-eb1e-4805-9612-9922e99d1dc6",
   "metadata": {},
   "outputs": [],
   "source": [
    "# build the model\n",
    "model = baseline_model()\n",
    "model.summary()"
   ]
  },
  {
   "cell_type": "code",
   "execution_count": null,
   "id": "4adc1d58-a08c-4fb6-b33f-96c83d57e4da",
   "metadata": {},
   "outputs": [],
   "source": [
    "opt = SGD(lr = 0.001)\n",
    "model.compile(loss='categorical_crossentropy', optimizer= opt, metrics=['accuracy'])"
   ]
  },
  {
   "cell_type": "code",
   "execution_count": null,
   "id": "6485575a-0c16-45d4-b536-d361b64f3847",
   "metadata": {},
   "outputs": [],
   "source": [
    "model.fit(X_train, y_train, epochs=5, batch_size=32, verbose=1)"
   ]
  },
  {
   "cell_type": "code",
   "execution_count": null,
   "id": "51091c29-fb45-4dd5-aa41-115579fe91dc",
   "metadata": {},
   "outputs": [],
   "source": [
    "scores = model.evaluate(X_test, y_test, verbose=1)\n",
    "print(\"Error: %.2f%%\" % (100-scores[1]*100))"
   ]
  },
  {
   "cell_type": "code",
   "execution_count": null,
   "id": "d231806c-896a-4fb1-8ea8-43a2bd3d2e1a",
   "metadata": {},
   "outputs": [],
   "source": [
    "img_width, img_height = 28, 28"
   ]
  },
  {
   "cell_type": "code",
   "execution_count": null,
   "id": "ad66a0cd-7438-47e7-ba22-849558b6a516",
   "metadata": {},
   "outputs": [],
   "source": [
    "ii = cv2.imread(\"../input/mnistpredict/3.png\")\n",
    "gray_image = cv2.cvtColor(ii, cv2.COLOR_BGR2GRAY)\n",
    "# print(gray_image)\n",
    "plt.imshow(gray_image,cmap='Greys')\n",
    "plt.show()\n",
    "# gray_image.shape\n",
    "x = np.expand_dims(gray_image, axis=0)\n",
    "x = x.reshape((1, -1))"
   ]
  },
  {
   "cell_type": "code",
   "execution_count": null,
   "id": "a0099b76-bfe1-49bf-b6ed-cc8971176a29",
   "metadata": {},
   "outputs": [],
   "source": [
    "preds = model.predict_classes(x)\n",
    "prob = model.predict_proba(x)\n",
    "\n",
    "\n",
    "print('Predicted value is ',preds[0])\n",
    "print('Probability across all numbers :', prob)"
   ]
  },
  {
   "cell_type": "code",
   "execution_count": null,
   "id": "6630f877-f21d-482a-b41b-e8ee62dba225",
   "metadata": {},
   "outputs": [],
   "source": []
  },
  {
   "cell_type": "code",
   "execution_count": null,
   "id": "324a24bb-8527-40e5-b8e3-7cba44d2ae8e",
   "metadata": {},
   "outputs": [],
   "source": []
  }
 ],
 "metadata": {
  "kernelspec": {
   "display_name": "Python 3 (ipykernel)",
   "language": "python",
   "name": "python3"
  },
  "language_info": {
   "codemirror_mode": {
    "name": "ipython",
    "version": 3
   },
   "file_extension": ".py",
   "mimetype": "text/x-python",
   "name": "python",
   "nbconvert_exporter": "python",
   "pygments_lexer": "ipython3",
   "version": "3.8.10"
  }
 },
 "nbformat": 4,
 "nbformat_minor": 5
}
