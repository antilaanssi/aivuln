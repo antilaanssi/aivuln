{
 "cells": [
  {
   "cell_type": "code",
   "execution_count": null,
   "id": "a765fcf1-0054-4625-b040-09610a0c0e5e",
   "metadata": {},
   "outputs": [],
   "source": [
    "# lent from https://github.com/vikamayr/project_ae/blob/main/dataset_tools/edit_coco_json_bbox_size_according_to_image_size.ipynb\n",
    "# Resize bounding boxes of annotation file to 800x800 used by ART to keep patches from resizing\n",
    "# And to have an uniform image size across the whole experiment."
   ]
  },
  {
   "cell_type": "code",
   "execution_count": null,
   "id": "93074449-0368-4ffa-96cb-82a12d6ebb6c",
   "metadata": {},
   "outputs": [],
   "source": [
    "!pip install tensorflow\n",
    "!pip install albumentations"
   ]
  },
  {
   "cell_type": "code",
   "execution_count": null,
   "id": "e8f4ca0c-4dde-4f04-8886-cab92c70dd53",
   "metadata": {},
   "outputs": [],
   "source": [
    "import tensorflow as tf\n",
    "import numpy as np\n",
    "import matplotlib.pyplot as plt\n",
    "from pycocotools.coco import COCO\n",
    "import skimage.io as io\n",
    "import os\n",
    "\n",
    "import json\n",
    "import albumentations as A"
   ]
  },
  {
   "cell_type": "code",
   "execution_count": null,
   "id": "00e738ba-9943-42ea-a544-cc13bf9d7b12",
   "metadata": {},
   "outputs": [],
   "source": [
    "image_dir = r'C:\\Users\\anssi\\fiftyone\\coco-2017\\validation\\data'\n",
    "annotations_file = r'C:\\Users\\anssi\\fiftyone\\coco-2017\\validation\\labels.json'"
   ]
  },
  {
   "cell_type": "code",
   "execution_count": null,
   "id": "5f992c48-18ba-47b2-bf39-41c37854f3c2",
   "metadata": {},
   "outputs": [],
   "source": [
    "coco=COCO(annotations_file)"
   ]
  },
  {
   "cell_type": "code",
   "execution_count": null,
   "id": "ed4b2e99-a50b-4c36-be92-f0b8484e77d8",
   "metadata": {},
   "outputs": [],
   "source": [
    "#validation set details\n",
    "imgIds = coco.getImgIds()\n",
    "print(\"Total images: {}\".format(len(imgIds)))\n",
    "img_id=403385\n",
    "img = coco.loadImgs(img_id)[0]\n",
    "print(\"Image example:\")\n",
    "print(img)\n",
    "\n",
    "annIds=coco.getAnnIds()\n",
    "print(\"\\nTotal annotations: {}\".format(len(annIds)))\n",
    "ann=coco.loadAnns(coco.getAnnIds(imgIds=img['id']))\n",
    "print(\"Annotation example:\")\n",
    "print(ann[0])"
   ]
  },
  {
   "cell_type": "code",
   "execution_count": null,
   "id": "d8a691d2-8e61-41c5-8bfe-5b24f67b6b30",
   "metadata": {},
   "outputs": [],
   "source": [
    "cats = coco.loadCats(coco.getCatIds())\n",
    "print(\"Number of categories: {}\".format(len(cats)))\n",
    "nms=[cat['name'] for cat in cats]\n",
    "ids=[cat['id'] for cat in cats]\n",
    "print('\\nCOCO categories: \\n{}\\n'.format(', '.join(nms)))\n",
    "\n"
   ]
  },
  {
   "cell_type": "code",
   "execution_count": null,
   "id": "d3e90bd7-4607-4cfd-8b1c-96bbb72e4bec",
   "metadata": {},
   "outputs": [],
   "source": [
    "category_id_to_name = dict(zip(ids, nms))\n",
    "print(category_id_to_name)"
   ]
  },
  {
   "cell_type": "code",
   "execution_count": null,
   "id": "a284ef08-151a-49b1-b9d7-99b3fabb9530",
   "metadata": {},
   "outputs": [],
   "source": [
    "# Open original data\n",
    "print(annotations_file)\n",
    "f = open(annotations_file, 'r')\n",
    "data = json.load(f)\n",
    "f.close()"
   ]
  },
  {
   "cell_type": "code",
   "execution_count": null,
   "id": "0df62881-0495-484c-b386-c346a96e2ac3",
   "metadata": {},
   "outputs": [],
   "source": [
    "#check the data\n",
    "for key in data['images']:\n",
    "    print(key)\n",
    "    file_name = key['file_name']\n",
    "    key_id = key['id']\n",
    "    coco_url = key['coco_url']\n",
    "    width = key['width']\n",
    "    height = key['height']\n",
    "    print('File name:', key['file_name'])\n",
    "    print('ID:', key['id'])\n",
    "    print('URL:', key['coco_url'])\n",
    "    print('Width:', key['width'],'Height:',key['height'], '\\n')\n",
    "    bboxes = []\n",
    "    category_ids = []\n",
    "    class_labels = []\n",
    "    for annotation in data['annotations']:\n",
    "        if annotation['image_id'] == key_id:\n",
    "            bboxes.append(annotation['bbox'])\n",
    "            category_ids.append(annotation['category_id'])\n",
    "            class_labels.append(category_id_to_name[annotation['category_id']])\n",
    "            print(annotation['bbox'], annotation['category_id'], category_id_to_name[annotation['category_id']])\n",
    "    print('\\n', 'Bounding boxes:', bboxes, '\\n')\n",
    "    print('Category ids:',category_ids, '\\n')\n",
    "    print('Class labels:',class_labels, '\\n')\n",
    "    #image_path = image_dir + \"\\\" + file_name\n",
    "    image_path = f\"{image_dir}\\\\{file_name}\"\n",
    "    image = io.imread(image_path)\n",
    "    print(image.shape)\n",
    "    break"
   ]
  },
  {
   "cell_type": "code",
   "execution_count": null,
   "id": "5b780c4c-29ac-41a3-a85d-3678aca4ee80",
   "metadata": {},
   "outputs": [],
   "source": [
    "def resize_image(img_arr, bboxes, h, w, class_labels):\n",
    "    \"\"\"\n",
    "    :param img_arr: original image as a numpy array\n",
    "    :param bboxes: bboxes as numpy array where each row is 'x_min', 'y_min', 'x_max', 'y_max', \"class_id\"\n",
    "    :param h: resized height dimension of image\n",
    "    :param w: resized weight dimension of image\n",
    "    :return: dictionary containing {image:transformed, bboxes:['x_min', 'y_min', 'x_max', 'y_max', \"class_id\"]}\n",
    "    \"\"\"\n",
    "    # create resize transform pipeline\n",
    "    transform = A.Compose(\n",
    "        [A.Resize(height=h, width=w, always_apply=True)],\n",
    "        bbox_params=A.BboxParams(format='coco', label_fields=['class_labels']))\n",
    "    \n",
    "    #print(bboxes)\n",
    "    transformed = transform(image=img_arr, bboxes=bboxes, class_labels=class_labels)\n",
    "    transformed_bboxes = transformed['bboxes']\n",
    "    \n",
    "    bounding_boxes_coco = []\n",
    "    for i in transformed_bboxes:\n",
    "        i = list(np.around(i, decimals=2))\n",
    "        bounding_boxes_coco.append(i)\n",
    "    \n",
    "    return bounding_boxes_coco"
   ]
  },
  {
   "cell_type": "code",
   "execution_count": null,
   "id": "17361570-1b09-4e1a-a773-0eea9489e9ff",
   "metadata": {},
   "outputs": [],
   "source": [
    "new_height, new_width = 800, 800\n",
    "a = 0\n",
    "# Make changes into dictionary\n",
    "for key in data['images']:\n",
    "    #print(key)\n",
    "    a +=1\n",
    "    file_name = key['file_name']\n",
    "    print(a,'.', file_name)\n",
    "    key_id = key['id']\n",
    "    image_path = f\"{image_dir}\\\\{file_name}\"\n",
    "    image = io.imread(image_path)\n",
    "    for annotation in data['annotations']:\n",
    "        if annotation['image_id'] == key['id']:\n",
    "            bboxes = []\n",
    "            category_ids = []\n",
    "            class_labels = []\n",
    "            bboxes.append(annotation['bbox'])\n",
    "            category_ids.append(annotation['category_id'])\n",
    "            class_labels.append(category_id_to_name[annotation['category_id']])\n",
    "            new_bboxes = resize_image(image, bboxes, new_height, new_width, class_labels)\n",
    "            annotation['bbox'] = new_bboxes[0]\n",
    "            annotation['segmentation'] = []\n",
    "    key['width'] = 800\n",
    "    key['height'] = 800\n",
    "    #break"
   ]
  },
  {
   "cell_type": "code",
   "execution_count": null,
   "id": "a2cd43a9-43e9-4ded-9a74-5145529147d5",
   "metadata": {},
   "outputs": [],
   "source": [
    "new_json_file = r'C:\\Users\\anssi\\fiftyone\\coco-2017\\validation\\labels_copy.json'\n",
    "\n",
    "\n",
    "\n",
    "# Save modified data to another file\n",
    "json_data = json.dumps(data)\n",
    "\n",
    "f = open(new_json_file,\"w\")\n",
    "f.write(json_data)\n",
    "f.close()\n",
    "\n",
    "\n"
   ]
  },
  {
   "cell_type": "code",
   "execution_count": null,
   "id": "dd397248-1c95-4a9c-89b3-88c7be2421cd",
   "metadata": {},
   "outputs": [],
   "source": [
    "# check modified file\n",
    "f = open(new_json_file, 'r')\n",
    "edited_data = json.load(f)\n",
    "f.close()\n",
    "\n",
    "for key in edited_data['images']:\n",
    "    #print(key)\n",
    "    #print('File name:', key['file_name'])\n",
    "    #print('ID:', key['id'])\n",
    "    #print('URL:', key['coco_url'])\n",
    "    #print('Width:', key['width'],'Height:',key['height'])\n",
    "    if key['width'] != 800 or key['height'] != 800:\n",
    "        print(print('size incorrect:', key['file_name']))\n",
    "        break\n",
    "    for annotation in edited_data['annotations']:\n",
    "        if annotation['image_id'] == key['id']:\n",
    "            #print(annotation['bbox'])\n",
    "            #print(annotation['category_id'], category_id_to_name[annotation['category_id']])\n",
    "            #print(annotation['segmentation'])\n",
    "            if annotation['segmentation'] != []:\n",
    "                print('segmentation not empty', key['file_name'])\n",
    "                break\n",
    "    #break\n"
   ]
  },
  {
   "cell_type": "code",
   "execution_count": null,
   "id": "dd12b1b0-6df7-4be8-ba79-ac9e413b4f3a",
   "metadata": {},
   "outputs": [],
   "source": []
  }
 ],
 "metadata": {
  "kernelspec": {
   "display_name": "envname",
   "language": "python",
   "name": "envname"
  },
  "language_info": {
   "codemirror_mode": {
    "name": "ipython",
    "version": 3
   },
   "file_extension": ".py",
   "mimetype": "text/x-python",
   "name": "python",
   "nbconvert_exporter": "python",
   "pygments_lexer": "ipython3",
   "version": "3.10.4"
  }
 },
 "nbformat": 4,
 "nbformat_minor": 5
}
