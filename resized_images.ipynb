{
 "cells": [
  {
   "cell_type": "code",
   "execution_count": null,
   "id": "f807e569-cd2d-4c08-b2f5-34d9619aa72e",
   "metadata": {},
   "outputs": [],
   "source": [
    "\n",
    "\n",
    "# resize coco images into 800x800\n",
    "from PIL import Image\n",
    "import glob\n",
    "import numpy as np\n",
    "import os\n",
    "\n"
   ]
  },
  {
   "cell_type": "code",
   "execution_count": null,
   "id": "1ec8a19f-43e8-4ad9-a756-fd7fae886be7",
   "metadata": {},
   "outputs": [],
   "source": [
    "list_images = glob.glob(r'C:\\\\Users\\\\anssi\\\\fiftyone\\\\coco-2017\\\\validation\\\\data\\\\*.jpg')"
   ]
  },
  {
   "cell_type": "code",
   "execution_count": null,
   "id": "aea3a478-0838-44bc-98f8-9ea399372df1",
   "metadata": {},
   "outputs": [],
   "source": [
    "print((list_images[0]))"
   ]
  },
  {
   "cell_type": "code",
   "execution_count": null,
   "id": "bc0203db-64ec-4633-bd25-00f3547426f2",
   "metadata": {},
   "outputs": [],
   "source": [
    "\n",
    "\n",
    "def get_filename(path):\n",
    "    name = os.path.basename(path)\n",
    "    return name\n",
    "\n",
    "counter = 0\n",
    "\n",
    "from PIL import Image\n",
    "from skimage.util import img_as_float32\n",
    "import numpy as np\n",
    "\n",
    "for file in list_images:\n",
    "  filename = get_filename(file)\n",
    "  image = Image.open(file)\n",
    "  new_image = image.resize((800, 800))\n",
    "  new_image = img_as_float32(new_image)\n",
    "  new_image_pil = Image.fromarray(np.uint8(new_image * 255))\n",
    "  new_image_pil.save('C:\\\\Users\\\\anssi\\\\fiftyone\\\\coco-2017\\\\validation\\\\float_data\\\\{}'.format(filename))\n",
    "  \n",
    "  counter += 1\n",
    "  print('Counter:', counter, '\\n', 'Original_size:', image.size, '--->', 'New_size:', new_image_pil.size)\n",
    "\n"
   ]
  },
  {
   "cell_type": "code",
   "execution_count": null,
   "id": "4f6c8063-c251-4f14-a84e-8c5bcfc01587",
   "metadata": {},
   "outputs": [],
   "source": []
  },
  {
   "cell_type": "code",
   "execution_count": null,
   "id": "380bd915-1930-40ae-a8ef-7fa265acd24a",
   "metadata": {},
   "outputs": [],
   "source": []
  }
 ],
 "metadata": {
  "kernelspec": {
   "display_name": "Python 3 (ipykernel)",
   "language": "python",
   "name": "python3"
  },
  "language_info": {
   "codemirror_mode": {
    "name": "ipython",
    "version": 3
   },
   "file_extension": ".py",
   "mimetype": "text/x-python",
   "name": "python",
   "nbconvert_exporter": "python",
   "pygments_lexer": "ipython3",
   "version": "3.10.4"
  }
 },
 "nbformat": 4,
 "nbformat_minor": 5
}
